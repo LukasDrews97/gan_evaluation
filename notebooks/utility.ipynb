{
 "cells": [
  {
   "cell_type": "code",
   "execution_count": 1,
   "id": "f642911f",
   "metadata": {},
   "outputs": [],
   "source": [
    "import torch\n",
    "import numpy as np\n",
    "from torch.nn.modules.utils import _pair"
   ]
  },
  {
   "cell_type": "code",
   "execution_count": 2,
   "id": "098f4a3f",
   "metadata": {},
   "outputs": [],
   "source": [
    "def convtransposed2d_calculate_output_shape(input_shape, kernel_size, stride=1, padding=0, dilation=1, output_padding=0):\n",
    "    input_shape = _pair(input_shape)\n",
    "    kernel_size = _pair(kernel_size)\n",
    "    stride = _pair(stride)\n",
    "    padding = _pair(padding)\n",
    "    dilation = _pair(dilation)\n",
    "    output_padding = _pair(output_padding)\n",
    "    \n",
    "    N = input_shape[0]\n",
    "    C = input_shape[1]\n",
    "    H = (input_shape[2] - 1) * stride[0] - 2 * padding[0] + dilation[0] * (kernel_size[0] - 1) + output_padding[0] + 1\n",
    "    W = (input_shape[3] - 1) * stride[1] - 2 * padding[1] + dilation[1] * (kernel_size[1] - 1) + output_padding[1] + 1\n",
    "    return (N, C, H, W)"
   ]
  },
  {
   "cell_type": "code",
   "execution_count": 3,
   "id": "17a59d58",
   "metadata": {},
   "outputs": [],
   "source": [
    "def conv2d_calculate_output_shape(input_shape, kernel_size, stride=1, padding=0, dilation=1):\n",
    "    input_shape = _pair(input_shape)\n",
    "    kernel_size = _pair(kernel_size)\n",
    "    stride = _pair(stride)\n",
    "    padding = _pair(padding)\n",
    "    dilation = _pair(dilation)\n",
    "    \n",
    "    N = input_shape[0]\n",
    "    C = input_shape[1]\n",
    "    H = ((input_shape[2] + 2 * padding[0] - dilation[0] * (kernel_size[0] - 1) - 1) // stride[0]) + 1\n",
    "    W = ((input_shape[3] + 2 * padding[1] - dilation[1] * (kernel_size[1] - 1) - 1) // stride[1]) + 1\n",
    "    return (N, C, H, W)"
   ]
  },
  {
   "cell_type": "code",
   "execution_count": null,
   "id": "ec8dabb2",
   "metadata": {},
   "outputs": [],
   "source": []
  }
 ],
 "metadata": {
  "kernelspec": {
   "display_name": "Python 3 (ipykernel)",
   "language": "python",
   "name": "python3"
  },
  "language_info": {
   "codemirror_mode": {
    "name": "ipython",
    "version": 3
   },
   "file_extension": ".py",
   "mimetype": "text/x-python",
   "name": "python",
   "nbconvert_exporter": "python",
   "pygments_lexer": "ipython3",
   "version": "3.7.4"
  }
 },
 "nbformat": 4,
 "nbformat_minor": 5
}
